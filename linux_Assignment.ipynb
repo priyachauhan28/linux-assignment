{
  "nbformat": 4,
  "nbformat_minor": 0,
  "metadata": {
    "colab": {
      "provenance": []
    },
    "kernelspec": {
      "name": "python3",
      "display_name": "Python 3"
    },
    "language_info": {
      "name": "python"
    }
  },
  "cells": [
    {
      "cell_type": "markdown",
      "source": [],
      "metadata": {
        "id": "nZ9-kiI8wJEY"
      }
    },
    {
      "cell_type": "markdown",
      "source": [
        "# Linux\n",
        "\n",
        "1. **What is Linux?**\n",
        "  ->linux is free, open source operating system that acts as the bridge between computer hardware and software. It is similar to windows and macOS but it known for being more cutomizable, secure and developer-friendly.\n",
        "  \n",
        "  ->Linux Features\n",
        "   1. Open source\n",
        "   2. Kernel-based\n",
        "   3. Multi-user and multitasking\n",
        "   4. Used in servers, desktops, and embedded systems\n",
        "\n",
        "2. **What is the difference between Hard Link & Soft Link?**\n",
        "  -> In linux, links are used to create references to files.There are two types of links.\n",
        "   1.)** Hard link**\n",
        "      1.It is a direct reference to the actual file data on the disk.\n",
        "      2.It points to the same inode (for original and link created).\n",
        "      3.File and hard link are indistinguishable.\n",
        "      4.If original file is deleted , hard link still works.\n",
        "      5.Cannot be created for directories.(except for root system/root users)\n",
        "      6.Cannot Span across file systems or partitions.\n",
        "\n",
        "      Example: ln file1.txt hardlink.txt\n",
        "\n",
        "    2.)** Soft link(symbolic link)**\n",
        "      1.It is like a shortcut , it points to the file name/path, not the data.\n",
        "      2.It points to the file path not the inode.\n",
        "      3.File and hard link are indistinguishable.\n",
        "      4.If original file is deleted , soft link is boken.\n",
        "      5.Can link to directories.\n",
        "      6.Can link across file systems or partitions.\n",
        "\n",
        "       Example: ln -s file1.txt softlink.txt\n",
        "\n",
        "  3.** What is a Kernel in Linux?**\n",
        "  -> Kernel is the core part of the linux OS that acts as a bridge between the computer hardware and software- managing how programs use system resources like CPU,memory and devices.\n",
        "\n",
        "  Functios:-\n",
        "  1.Memory management- controls how RAM is used by processes.\n",
        "  2.Process Management-Manages running programs(start, stop,switch)\n",
        "  3.Device drivers-talk to hardware like keyboard ,mouse,disk etc.\n",
        "  4.Networking- manages network traafic(wifi,ethernet).\n",
        "  5.Security and Permission-enforces access control between users and files.\n",
        "\n",
        "  4. **How do you create a user account?**"
      ],
      "metadata": {
        "id": "3sICatO3wKcx"
      }
    },
    {
      "cell_type": "code",
      "source": [
        "sudo useradd -m username\n",
        "\n",
        "# -m creates a home directory at home/username\n",
        "\n",
        "# Example\n",
        "\n",
        "sudo useradd -m priya"
      ],
      "metadata": {
        "id": "BRW-b8sfAG4o"
      },
      "execution_count": null,
      "outputs": []
    },
    {
      "cell_type": "markdown",
      "source": [
        "5. **What is the ‘grep’ command used for in Linux?**\n",
        " -> grep command is used to search text patterns inside the file or command output.It stands for Global Regular Expression Print.\n"
      ],
      "metadata": {
        "id": "GcgCNzoeBVgb"
      }
    },
    {
      "cell_type": "code",
      "source": [
        "# command\n",
        "\n",
        "grep \"pattern\" file.txt\n",
        "\n",
        "# This will search for pattern in the file and print matching lines."
      ],
      "metadata": {
        "id": "_vQ6nagFCpHx"
      },
      "execution_count": null,
      "outputs": []
    },
    {
      "cell_type": "markdown",
      "source": [
        "6. Step1: Create user p1\n",
        "\n",
        " Step2: He should be part of 3 groups g1,g2,g3.\n",
        "\n",
        " Step3: whenever he creates a file automatically in the group section of file grp g1 should come."
      ],
      "metadata": {
        "id": "T4mbQFXlDPLB"
      }
    },
    {
      "cell_type": "code",
      "source": [
        "#Step1\n",
        "\n",
        "sudo useradd -m p1\n",
        "\n",
        "#step2\n",
        "\n",
        "sudo groupadd g1\n",
        "sudo groupadd g2\n",
        "sudo groupadd g3\n",
        "\n",
        "#adding p1 to these groups\n",
        "\n",
        "sudo usermod -aG g1,g2,g3 p1\n",
        "\n",
        "#Step3\n",
        "\n",
        "sudo usermod -g g1 p1\n",
        "\n",
        "\n",
        "\n",
        "\n"
      ],
      "metadata": {
        "id": "o6yOSNwyGJZS"
      },
      "execution_count": null,
      "outputs": []
    },
    {
      "cell_type": "markdown",
      "source": [
        "7. Step1: Create directory /tmp/bg as root user and create files inside it.\n",
        "\n",
        " Step2: “abhi” should be the owner of the directory. He should be able to create files and delete files inside\n",
        "\n",
        " the directory and also he should be able to add content to all files inside the directory."
      ],
      "metadata": {
        "id": "_luJ1UzRIdeh"
      }
    },
    {
      "cell_type": "code",
      "source": [
        "#Step1\n",
        "\n",
        "sudo mkdir /tmp/bg\n",
        "sudo touch /tmp/bg/file1.txt\n",
        "\n",
        "#step2\n",
        "\n",
        "sudo chown abhi:abhi /tmp/bg/*\n",
        "sudo chmod 777 /tmp/bg/*"
      ],
      "metadata": {
        "id": "QQACX25RI9cp"
      },
      "execution_count": null,
      "outputs": []
    },
    {
      "cell_type": "markdown",
      "source": [
        "8. You suspect that a particular process is consuming excessive CPU resources on your Linux server. How\n",
        "would you identify and terminate this process?"
      ],
      "metadata": {
        "id": "HCr6crhOLAyu"
      }
    },
    {
      "cell_type": "code",
      "source": [
        "top\n",
        "\n",
        "#it will show a live view of processes\n",
        "\n",
        "sudo kill PID\n",
        "\n",
        "#force kill\n",
        "\n",
        "sudo kill -9 PID"
      ],
      "metadata": {
        "id": "OqTZ9OimLLln"
      },
      "execution_count": null,
      "outputs": []
    }
  ]
}